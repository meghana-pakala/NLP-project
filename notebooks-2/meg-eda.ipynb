{
 "cells": [
  {
   "cell_type": "markdown",
   "metadata": {},
   "source": [
    "# imports"
   ]
  },
  {
   "cell_type": "code",
   "execution_count": 70,
   "metadata": {},
   "outputs": [],
   "source": [
    "import pandas as pd\n",
    "\n",
    "import matplotlib.pyplot as plt\n",
    "import seaborn as sns\n",
    "\n",
    "import nltk\n",
    "import re\n",
    "from nltk.tokenize import RegexpTokenizer, TweetTokenizer\n",
    "from nltk.corpus import stopwords\n",
    "from nltk.stem import WordNetLemmatizer\n",
    "\n",
    "from sklearn.model_selection import train_test_split, cross_validate\n",
    "from sklearn.metrics import accuracy_score"
   ]
  },
  {
   "cell_type": "code",
   "execution_count": null,
   "metadata": {},
   "outputs": [],
   "source": [
    "\n",
    "from sklearn.feature_extraction.text import CountVectorizer, TfidfVectorizer\n",
    "\n",
    "from sklearn.pipeline import Pipeline\n",
    "from sklearn.impute import SimpleImputer\n",
    "from sklearn.preprocessing import StandardScaler\n",
    "from sklearn.decomposition import PCA\n",
    "\n",
    "from sklearn.model_selection import train_test_split, cross_validate, GridSearchCV\n",
    "from sklearn.metrics import accuracy_score, confusion_matrix, ConfusionMatrixDisplay, silhouette_score\n",
    "\n",
    "from sklearn.linear_model import LogisticRegression\n",
    "from sklearn.naive_bayes import MultinomialNB\n",
    "from sklearn.ensemble import RandomForestClassifier\n",
    "from sklearn.neighbors import KNeighborsClassifier\n",
    "from sklearn.cluster import KMeans"
   ]
  },
  {
   "cell_type": "markdown",
   "metadata": {},
   "source": [
    "# data cleaning"
   ]
  },
  {
   "cell_type": "code",
   "execution_count": null,
   "metadata": {},
   "outputs": [],
   "source": [
    "# import data\n",
    "df = pd.read_csv(\"../data/brands_and_product_tweets.csv\")\n",
    "df.head()"
   ]
  },
  {
   "cell_type": "code",
   "execution_count": null,
   "metadata": {},
   "outputs": [],
   "source": [
    "# rename columns for readability\n",
    "df = df.rename(columns = {'tweet_text': 'tweet',\n",
    "                          'emotion_in_tweet_is_directed_at': 'product',\n",
    "                          'is_there_an_emotion_directed_at_a_brand_or_product': 'sentiment'})\n",
    "df.info()"
   ]
  },
  {
   "cell_type": "code",
   "execution_count": null,
   "metadata": {},
   "outputs": [],
   "source": [
    "# explore null values\n",
    "df.isna().sum()"
   ]
  },
  {
   "cell_type": "code",
   "execution_count": null,
   "metadata": {},
   "outputs": [],
   "source": [
    "# view rows where 'tweet' is null\n",
    "df[df['tweet'].isna()]"
   ]
  },
  {
   "cell_type": "code",
   "execution_count": null,
   "metadata": {},
   "outputs": [],
   "source": [
    "# drop null rows\n",
    "df.dropna(subset=['tweet'], inplace=True)"
   ]
  },
  {
   "cell_type": "code",
   "execution_count": null,
   "metadata": {},
   "outputs": [],
   "source": [
    "# view distribution of sentiment labels\n",
    "df['sentiment'].value_counts()"
   ]
  },
  {
   "cell_type": "code",
   "execution_count": null,
   "metadata": {},
   "outputs": [],
   "source": [
    "# rename sentiment labels\n",
    "df['sentiment'] = df['sentiment'].replace({\"No emotion toward brand or product\": \"neutral\",\n",
    "                                           \"Positive emotion\": \"positive\",\n",
    "                                           \"Negative emotion\": \"negative\",\n",
    "                                           \"I can't tell\": \"unclear\"})\n",
    "df['sentiment'].value_counts()"
   ]
  },
  {
   "cell_type": "code",
   "execution_count": null,
   "metadata": {},
   "outputs": [],
   "source": [
    "# view distribution of product labels\n",
    "df['product'].value_counts()"
   ]
  },
  {
   "cell_type": "code",
   "execution_count": null,
   "metadata": {},
   "outputs": [],
   "source": [
    "# view rows where 'product' is null\n",
    "df[df['product'].isna()]"
   ]
  },
  {
   "cell_type": "code",
   "execution_count": null,
   "metadata": {},
   "outputs": [],
   "source": [
    "# fill null rows with 'unassigned'\n",
    "df['product'].fillna('unassigned', inplace = True)"
   ]
  },
  {
   "cell_type": "code",
   "execution_count": 20,
   "metadata": {},
   "outputs": [
    {
     "data": {
      "text/plain": [
       "brand   product                        \n",
       "NA      unassigned                         5551\n",
       "apple   Apple                               640\n",
       "        Other Apple product or service       34\n",
       "        iPad                                910\n",
       "        iPad or iPhone App                  451\n",
       "        iPhone                              288\n",
       "google  Android                              74\n",
       "        Android App                          78\n",
       "        Google                              412\n",
       "        Other Google product or service     282\n",
       "dtype: int64"
      ]
     },
     "execution_count": 20,
     "metadata": {},
     "output_type": "execute_result"
    }
   ],
   "source": [
    "# categorize products by brand\n",
    "\n",
    "# create column 'brand' with default value 'NA'\n",
    "df['brand'] = 'NA'\n",
    "\n",
    "# define conditions using 'product' name\n",
    "product_apple = df['product'].str.contains('apple|ip', case=False)\n",
    "product_google = df['product'].str.contains('google|android', case=False)\n",
    "\n",
    "# fill in 'brand' using defined conditions\n",
    "df.loc[product_apple, 'brand'] = 'apple'\n",
    "df.loc[product_google, 'brand'] = 'google'\n",
    "\n",
    "# view distribution of of brand labels\n",
    "df.groupby(['brand', 'product']).size()"
   ]
  },
  {
   "cell_type": "code",
   "execution_count": 19,
   "metadata": {},
   "outputs": [
    {
     "name": "stdout",
     "output_type": "stream",
     "text": [
      "<class 'pandas.core.frame.DataFrame'>\n",
      "Int64Index: 8720 entries, 0 to 8720\n",
      "Data columns (total 4 columns):\n",
      " #   Column     Non-Null Count  Dtype \n",
      "---  ------     --------------  ----- \n",
      " 0   tweet      8720 non-null   object\n",
      " 1   product    8720 non-null   object\n",
      " 2   sentiment  8720 non-null   object\n",
      " 3   brand      8720 non-null   object\n",
      "dtypes: object(4)\n",
      "memory usage: 340.6+ KB\n"
     ]
    }
   ],
   "source": [
    "df.info()"
   ]
  },
  {
   "cell_type": "code",
   "execution_count": null,
   "metadata": {},
   "outputs": [],
   "source": [
    "### WIP ###\n",
    "\n",
    "# define function to identify brand mentioned in tweet text\n",
    "\n",
    "def tweet_brand(row):\n",
    "    tweet_apple = row['tweet'].str.contains('apple|iphone|ipad', case=False)\n",
    "    tweet_google = row['tweet'].str.contains('google|android', case=False)\n",
    "\n",
    "    if row['brand'] == 'NA':    \n",
    "        if tweet_apple and tweet_google:\n",
    "            return 'both'\n",
    "        elif tweet_apple:\n",
    "            return 'apple'\n",
    "        elif tweet_google:\n",
    "            return 'google'\n",
    "    return row['brand']\n",
    "\n",
    "# apply the function to each row and return results to 'brand'\n",
    "df['brand'] = df.apply(tweet_brand, axis=1)\n",
    "\n",
    "\n",
    "#df['brand'].value_counts()\n",
    "#df.groupby(['brand', 'product']).size()"
   ]
  },
  {
   "cell_type": "code",
   "execution_count": 21,
   "metadata": {},
   "outputs": [
    {
     "data": {
      "text/html": [
       "<div>\n",
       "<style scoped>\n",
       "    .dataframe tbody tr th:only-of-type {\n",
       "        vertical-align: middle;\n",
       "    }\n",
       "\n",
       "    .dataframe tbody tr th {\n",
       "        vertical-align: top;\n",
       "    }\n",
       "\n",
       "    .dataframe thead th {\n",
       "        text-align: right;\n",
       "    }\n",
       "</style>\n",
       "<table border=\"1\" class=\"dataframe\">\n",
       "  <thead>\n",
       "    <tr style=\"text-align: right;\">\n",
       "      <th></th>\n",
       "      <th>tweet</th>\n",
       "      <th>product</th>\n",
       "      <th>sentiment</th>\n",
       "      <th>brand</th>\n",
       "    </tr>\n",
       "  </thead>\n",
       "  <tbody>\n",
       "    <tr>\n",
       "      <th>457</th>\n",
       "      <td>Before It Even Begins, Apple Wins #SXSW {link}</td>\n",
       "      <td>Apple</td>\n",
       "      <td>positive</td>\n",
       "      <td>apple</td>\n",
       "    </tr>\n",
       "    <tr>\n",
       "      <th>752</th>\n",
       "      <td>Google to Launch Major New Social Network Call...</td>\n",
       "      <td>unassigned</td>\n",
       "      <td>neutral</td>\n",
       "      <td>NA</td>\n",
       "    </tr>\n",
       "    <tr>\n",
       "      <th>2138</th>\n",
       "      <td>Marissa Mayer: Google Will Connect the Digital...</td>\n",
       "      <td>unassigned</td>\n",
       "      <td>neutral</td>\n",
       "      <td>NA</td>\n",
       "    </tr>\n",
       "    <tr>\n",
       "      <th>2437</th>\n",
       "      <td>Counting down the days to #sxsw plus strong Ca...</td>\n",
       "      <td>Apple</td>\n",
       "      <td>positive</td>\n",
       "      <td>apple</td>\n",
       "    </tr>\n",
       "    <tr>\n",
       "      <th>3759</th>\n",
       "      <td>Really enjoying the changes in Gowalla 3.0 for...</td>\n",
       "      <td>Android App</td>\n",
       "      <td>positive</td>\n",
       "      <td>google</td>\n",
       "    </tr>\n",
       "    <tr>\n",
       "      <th>3771</th>\n",
       "      <td>#SXSW is just starting, #CTIA is around the co...</td>\n",
       "      <td>Android</td>\n",
       "      <td>positive</td>\n",
       "      <td>google</td>\n",
       "    </tr>\n",
       "    <tr>\n",
       "      <th>4669</th>\n",
       "      <td>Oh. My. God. The #SXSW app for iPad is pure, u...</td>\n",
       "      <td>iPad or iPhone App</td>\n",
       "      <td>positive</td>\n",
       "      <td>apple</td>\n",
       "    </tr>\n",
       "    <tr>\n",
       "      <th>5107</th>\n",
       "      <td>RT @mention ��� GO BEYOND BORDERS! ��_ {link} ...</td>\n",
       "      <td>unassigned</td>\n",
       "      <td>neutral</td>\n",
       "      <td>NA</td>\n",
       "    </tr>\n",
       "    <tr>\n",
       "      <th>5110</th>\n",
       "      <td>RT @mention ��� Happy Woman's Day! Make love, ...</td>\n",
       "      <td>unassigned</td>\n",
       "      <td>neutral</td>\n",
       "      <td>NA</td>\n",
       "    </tr>\n",
       "    <tr>\n",
       "      <th>5650</th>\n",
       "      <td>RT @mention Google to Launch Major New Social ...</td>\n",
       "      <td>unassigned</td>\n",
       "      <td>neutral</td>\n",
       "      <td>NA</td>\n",
       "    </tr>\n",
       "    <tr>\n",
       "      <th>5651</th>\n",
       "      <td>RT @mention Google to Launch Major New Social ...</td>\n",
       "      <td>unassigned</td>\n",
       "      <td>neutral</td>\n",
       "      <td>NA</td>\n",
       "    </tr>\n",
       "    <tr>\n",
       "      <th>5652</th>\n",
       "      <td>RT @mention Google to Launch Major New Social ...</td>\n",
       "      <td>unassigned</td>\n",
       "      <td>neutral</td>\n",
       "      <td>NA</td>\n",
       "    </tr>\n",
       "    <tr>\n",
       "      <th>5653</th>\n",
       "      <td>RT @mention Google to Launch Major New Social ...</td>\n",
       "      <td>unassigned</td>\n",
       "      <td>neutral</td>\n",
       "      <td>NA</td>\n",
       "    </tr>\n",
       "    <tr>\n",
       "      <th>5654</th>\n",
       "      <td>RT @mention Google to Launch Major New Social ...</td>\n",
       "      <td>unassigned</td>\n",
       "      <td>neutral</td>\n",
       "      <td>NA</td>\n",
       "    </tr>\n",
       "    <tr>\n",
       "      <th>6065</th>\n",
       "      <td>RT @mention Marissa Mayer: Google Will Connect...</td>\n",
       "      <td>Google</td>\n",
       "      <td>positive</td>\n",
       "      <td>google</td>\n",
       "    </tr>\n",
       "    <tr>\n",
       "      <th>6066</th>\n",
       "      <td>RT @mention Marissa Mayer: Google Will Connect...</td>\n",
       "      <td>unassigned</td>\n",
       "      <td>neutral</td>\n",
       "      <td>NA</td>\n",
       "    </tr>\n",
       "    <tr>\n",
       "      <th>6067</th>\n",
       "      <td>RT @mention Marissa Mayer: Google Will Connect...</td>\n",
       "      <td>Google</td>\n",
       "      <td>positive</td>\n",
       "      <td>google</td>\n",
       "    </tr>\n",
       "    <tr>\n",
       "      <th>6068</th>\n",
       "      <td>RT @mention Marissa Mayer: Google Will Connect...</td>\n",
       "      <td>unassigned</td>\n",
       "      <td>neutral</td>\n",
       "      <td>NA</td>\n",
       "    </tr>\n",
       "    <tr>\n",
       "      <th>6069</th>\n",
       "      <td>RT @mention Marissa Mayer: Google Will Connect...</td>\n",
       "      <td>unassigned</td>\n",
       "      <td>neutral</td>\n",
       "      <td>NA</td>\n",
       "    </tr>\n",
       "    <tr>\n",
       "      <th>6315</th>\n",
       "      <td>RT @mention RT @mention Google to Launch Major...</td>\n",
       "      <td>unassigned</td>\n",
       "      <td>neutral</td>\n",
       "      <td>NA</td>\n",
       "    </tr>\n",
       "    <tr>\n",
       "      <th>8146</th>\n",
       "      <td>I just noticed DST is coming this weekend. How...</td>\n",
       "      <td>iPhone</td>\n",
       "      <td>negative</td>\n",
       "      <td>apple</td>\n",
       "    </tr>\n",
       "    <tr>\n",
       "      <th>8394</th>\n",
       "      <td>Need to buy an iPad2 while I'm in Austin at #s...</td>\n",
       "      <td>iPad</td>\n",
       "      <td>positive</td>\n",
       "      <td>apple</td>\n",
       "    </tr>\n",
       "  </tbody>\n",
       "</table>\n",
       "</div>"
      ],
      "text/plain": [
       "                                                  tweet             product  \\\n",
       "457      Before It Even Begins, Apple Wins #SXSW {link}               Apple   \n",
       "752   Google to Launch Major New Social Network Call...          unassigned   \n",
       "2138  Marissa Mayer: Google Will Connect the Digital...          unassigned   \n",
       "2437  Counting down the days to #sxsw plus strong Ca...               Apple   \n",
       "3759  Really enjoying the changes in Gowalla 3.0 for...         Android App   \n",
       "3771  #SXSW is just starting, #CTIA is around the co...             Android   \n",
       "4669  Oh. My. God. The #SXSW app for iPad is pure, u...  iPad or iPhone App   \n",
       "5107  RT @mention ��� GO BEYOND BORDERS! ��_ {link} ...          unassigned   \n",
       "5110  RT @mention ��� Happy Woman's Day! Make love, ...          unassigned   \n",
       "5650  RT @mention Google to Launch Major New Social ...          unassigned   \n",
       "5651  RT @mention Google to Launch Major New Social ...          unassigned   \n",
       "5652  RT @mention Google to Launch Major New Social ...          unassigned   \n",
       "5653  RT @mention Google to Launch Major New Social ...          unassigned   \n",
       "5654  RT @mention Google to Launch Major New Social ...          unassigned   \n",
       "6065  RT @mention Marissa Mayer: Google Will Connect...              Google   \n",
       "6066  RT @mention Marissa Mayer: Google Will Connect...          unassigned   \n",
       "6067  RT @mention Marissa Mayer: Google Will Connect...              Google   \n",
       "6068  RT @mention Marissa Mayer: Google Will Connect...          unassigned   \n",
       "6069  RT @mention Marissa Mayer: Google Will Connect...          unassigned   \n",
       "6315  RT @mention RT @mention Google to Launch Major...          unassigned   \n",
       "8146  I just noticed DST is coming this weekend. How...              iPhone   \n",
       "8394  Need to buy an iPad2 while I'm in Austin at #s...                iPad   \n",
       "\n",
       "     sentiment   brand  \n",
       "457   positive   apple  \n",
       "752    neutral      NA  \n",
       "2138   neutral      NA  \n",
       "2437  positive   apple  \n",
       "3759  positive  google  \n",
       "3771  positive  google  \n",
       "4669  positive   apple  \n",
       "5107   neutral      NA  \n",
       "5110   neutral      NA  \n",
       "5650   neutral      NA  \n",
       "5651   neutral      NA  \n",
       "5652   neutral      NA  \n",
       "5653   neutral      NA  \n",
       "5654   neutral      NA  \n",
       "6065  positive  google  \n",
       "6066   neutral      NA  \n",
       "6067  positive  google  \n",
       "6068   neutral      NA  \n",
       "6069   neutral      NA  \n",
       "6315   neutral      NA  \n",
       "8146  negative   apple  \n",
       "8394  positive   apple  "
      ]
     },
     "execution_count": 21,
     "metadata": {},
     "output_type": "execute_result"
    }
   ],
   "source": [
    "# check for duplicate rows\n",
    "df[df.duplicated()]"
   ]
  },
  {
   "cell_type": "code",
   "execution_count": 22,
   "metadata": {},
   "outputs": [],
   "source": [
    "# drop duplicates\n",
    "df.drop_duplicates(inplace=True)"
   ]
  },
  {
   "cell_type": "code",
   "execution_count": 23,
   "metadata": {},
   "outputs": [
    {
     "data": {
      "text/html": [
       "<div>\n",
       "<style scoped>\n",
       "    .dataframe tbody tr th:only-of-type {\n",
       "        vertical-align: middle;\n",
       "    }\n",
       "\n",
       "    .dataframe tbody tr th {\n",
       "        vertical-align: top;\n",
       "    }\n",
       "\n",
       "    .dataframe thead th {\n",
       "        text-align: right;\n",
       "    }\n",
       "</style>\n",
       "<table border=\"1\" class=\"dataframe\">\n",
       "  <thead>\n",
       "    <tr style=\"text-align: right;\">\n",
       "      <th></th>\n",
       "      <th>tweet</th>\n",
       "      <th>product</th>\n",
       "      <th>sentiment</th>\n",
       "      <th>brand</th>\n",
       "    </tr>\n",
       "  </thead>\n",
       "  <tbody>\n",
       "    <tr>\n",
       "      <th>0</th>\n",
       "      <td>.@wesley83 I have a 3G iPhone. After 3 hrs twe...</td>\n",
       "      <td>iPhone</td>\n",
       "      <td>negative</td>\n",
       "      <td>apple</td>\n",
       "    </tr>\n",
       "    <tr>\n",
       "      <th>1</th>\n",
       "      <td>@jessedee Know about @fludapp ? Awesome iPad/i...</td>\n",
       "      <td>iPad or iPhone App</td>\n",
       "      <td>positive</td>\n",
       "      <td>apple</td>\n",
       "    </tr>\n",
       "    <tr>\n",
       "      <th>2</th>\n",
       "      <td>@swonderlin Can not wait for #iPad 2 also. The...</td>\n",
       "      <td>iPad</td>\n",
       "      <td>positive</td>\n",
       "      <td>apple</td>\n",
       "    </tr>\n",
       "    <tr>\n",
       "      <th>3</th>\n",
       "      <td>@sxsw I hope this year's festival isn't as cra...</td>\n",
       "      <td>iPad or iPhone App</td>\n",
       "      <td>negative</td>\n",
       "      <td>apple</td>\n",
       "    </tr>\n",
       "    <tr>\n",
       "      <th>4</th>\n",
       "      <td>@sxtxstate great stuff on Fri #SXSW: Marissa M...</td>\n",
       "      <td>Google</td>\n",
       "      <td>positive</td>\n",
       "      <td>google</td>\n",
       "    </tr>\n",
       "    <tr>\n",
       "      <th>...</th>\n",
       "      <td>...</td>\n",
       "      <td>...</td>\n",
       "      <td>...</td>\n",
       "      <td>...</td>\n",
       "    </tr>\n",
       "    <tr>\n",
       "      <th>8693</th>\n",
       "      <td>Ipad everywhere. #SXSW {link}</td>\n",
       "      <td>iPad</td>\n",
       "      <td>positive</td>\n",
       "      <td>apple</td>\n",
       "    </tr>\n",
       "    <tr>\n",
       "      <th>8694</th>\n",
       "      <td>Wave, buzz... RT @mention We interrupt your re...</td>\n",
       "      <td>unassigned</td>\n",
       "      <td>neutral</td>\n",
       "      <td>NA</td>\n",
       "    </tr>\n",
       "    <tr>\n",
       "      <th>8695</th>\n",
       "      <td>Google's Zeiger, a physician never reported po...</td>\n",
       "      <td>unassigned</td>\n",
       "      <td>neutral</td>\n",
       "      <td>NA</td>\n",
       "    </tr>\n",
       "    <tr>\n",
       "      <th>8696</th>\n",
       "      <td>Some Verizon iPhone customers complained their...</td>\n",
       "      <td>unassigned</td>\n",
       "      <td>neutral</td>\n",
       "      <td>NA</td>\n",
       "    </tr>\n",
       "    <tr>\n",
       "      <th>8697</th>\n",
       "      <td>�ϡ�����_��ʋ�΋�ҋ�������⋁_��������_���RT @mentio...</td>\n",
       "      <td>unassigned</td>\n",
       "      <td>neutral</td>\n",
       "      <td>NA</td>\n",
       "    </tr>\n",
       "  </tbody>\n",
       "</table>\n",
       "<p>8698 rows × 4 columns</p>\n",
       "</div>"
      ],
      "text/plain": [
       "                                                  tweet             product  \\\n",
       "0     .@wesley83 I have a 3G iPhone. After 3 hrs twe...              iPhone   \n",
       "1     @jessedee Know about @fludapp ? Awesome iPad/i...  iPad or iPhone App   \n",
       "2     @swonderlin Can not wait for #iPad 2 also. The...                iPad   \n",
       "3     @sxsw I hope this year's festival isn't as cra...  iPad or iPhone App   \n",
       "4     @sxtxstate great stuff on Fri #SXSW: Marissa M...              Google   \n",
       "...                                                 ...                 ...   \n",
       "8693                      Ipad everywhere. #SXSW {link}                iPad   \n",
       "8694  Wave, buzz... RT @mention We interrupt your re...          unassigned   \n",
       "8695  Google's Zeiger, a physician never reported po...          unassigned   \n",
       "8696  Some Verizon iPhone customers complained their...          unassigned   \n",
       "8697  �ϡ�����_��ʋ�΋�ҋ�������⋁_��������_���RT @mentio...          unassigned   \n",
       "\n",
       "     sentiment   brand  \n",
       "0     negative   apple  \n",
       "1     positive   apple  \n",
       "2     positive   apple  \n",
       "3     negative   apple  \n",
       "4     positive  google  \n",
       "...        ...     ...  \n",
       "8693  positive   apple  \n",
       "8694   neutral      NA  \n",
       "8695   neutral      NA  \n",
       "8696   neutral      NA  \n",
       "8697   neutral      NA  \n",
       "\n",
       "[8698 rows x 4 columns]"
      ]
     },
     "execution_count": 23,
     "metadata": {},
     "output_type": "execute_result"
    }
   ],
   "source": [
    "# reset index after dropping rows\n",
    "df.reset_index(drop=True, inplace=True)\n",
    "df"
   ]
  },
  {
   "cell_type": "markdown",
   "metadata": {},
   "source": [
    "# data viz"
   ]
  },
  {
   "cell_type": "code",
   "execution_count": 41,
   "metadata": {},
   "outputs": [],
   "source": [
    "def tweet_countplot(df, col, hue=None):\n",
    "    sns.countplot(data=df, x=col, hue=hue)\n",
    "    plt.xticks(rotation=90)\n",
    "    plt.title(f'distribution of tweets by {col}')\n",
    "    plt.show()\n"
   ]
  },
  {
   "cell_type": "code",
   "execution_count": 72,
   "metadata": {},
   "outputs": [
    {
     "data": {
      "image/png": "[encoded data removed]",
      "text/plain": [
       "<Figure size 432x288 with 1 Axes>"
      ]
     },
     "metadata": {
      "needs_background": "light"
     },
     "output_type": "display_data"
    }
   ],
   "source": [
    "tweet_countplot(df, 'product')"
   ]
  },
  {
   "cell_type": "code",
   "execution_count": 37,
   "metadata": {},
   "outputs": [
    {
     "data": {
      "image/png": "[encoded data removed]",
      "text/plain": [
       "<Figure size 432x288 with 1 Axes>"
      ]
     },
     "metadata": {
      "needs_background": "light"
     },
     "output_type": "display_data"
    }
   ],
   "source": [
    "tweet_countplot(df, 'sentiment')"
   ]
  },
  {
   "cell_type": "code",
   "execution_count": 39,
   "metadata": {},
   "outputs": [
    {
     "data": {
      "image/png": "[encoded data removed]",
      "text/plain": [
       "<Figure size 432x288 with 1 Axes>"
      ]
     },
     "metadata": {
      "needs_background": "light"
     },
     "output_type": "display_data"
    }
   ],
   "source": [
    "tweet_countplot(df, 'brand')"
   ]
  },
  {
   "cell_type": "code",
   "execution_count": 42,
   "metadata": {},
   "outputs": [
    {
     "data": {
      "image/png": "[encoded data removed]",
      "text/plain": [
       "<Figure size 432x288 with 1 Axes>"
      ]
     },
     "metadata": {
      "needs_background": "light"
     },
     "output_type": "display_data"
    }
   ],
   "source": [
    "tweet_countplot(df, 'brand', hue='sentiment')"
   ]
  },
  {
   "cell_type": "code",
   "execution_count": 43,
   "metadata": {},
   "outputs": [
    {
     "data": {
      "image/png": "[encoded data removed]",
      "text/plain": [
       "<Figure size 432x288 with 1 Axes>"
      ]
     },
     "metadata": {
      "needs_background": "light"
     },
     "output_type": "display_data"
    }
   ],
   "source": [
    "tweet_countplot(df, 'sentiment', hue='brand')"
   ]
  },
  {
   "cell_type": "markdown",
   "metadata": {},
   "source": [
    "# preprocessing"
   ]
  },
  {
   "cell_type": "code",
   "execution_count": 46,
   "metadata": {},
   "outputs": [],
   "source": [
    "# define stopwords\n",
    "stopwords = stopwords.words('english')\n",
    "\n",
    "words_to_add = ['sxsw','link', 'rt']\n",
    "\n",
    "stopwords.extend(words_to_add)"
   ]
  },
  {
   "cell_type": "code",
   "execution_count": 47,
   "metadata": {},
   "outputs": [],
   "source": [
    "# set up tokenizer\n",
    "tokenizer = RegexpTokenizer(r\"(?u)\\w{3,}\")\n",
    "tweet_tknzr = TweetTokenizer(strip_handles=True)\n",
    "\n",
    "lemmer = WordNetLemmatizer()\n",
    "#p_stemmer = PorterStemmer()\n",
    "#s_stemmer = SnowballStemmer()"
   ]
  },
  {
   "cell_type": "code",
   "execution_count": 49,
   "metadata": {},
   "outputs": [],
   "source": [
    "def clean_tweet(text):\n",
    "    # remove twitter handles\n",
    "    tokens = tweet_tknzr.tokenize(text)\n",
    "    text = \" \".join(tokens)\n",
    "    \n",
    "    # remove URLs\n",
    "    text = re.sub(r'http\\S+|www\\S+|https\\S+', '', text, flags=re.MULTILINE)\n",
    "    \n",
    "    # remove @ and #\n",
    "    text = re.sub(r'\\@\\w+|\\#','', text)\n",
    "    \n",
    "    # remove HTML tags\n",
    "    text = re.sub(r'<.*?>', '', text)\n",
    "    \n",
    "    # remove special characters and numbers\n",
    "    text = re.sub(r\"[^a-zA-Z']\", ' ', text)\n",
    "    \n",
    "    # convert to lowercase\n",
    "    text = text.lower()\n",
    "\n",
    "    # remove words under 3 letters\n",
    "    tokens = tokenizer.tokenize(text)\n",
    "\n",
    "    # remove stopwords\n",
    "    tokens = [token for token in tokens if token not in stopwords]\n",
    "    \n",
    "    # lemmatize tokens\n",
    "    tokens = [lemmer.lemmatize(token) for token in tokens]\n",
    "\n",
    "    #Turn the lemma list into a string for the Vectorizer\n",
    "    text = \" \".join(tokens) \n",
    "    return text"
   ]
  },
  {
   "cell_type": "code",
   "execution_count": 54,
   "metadata": {},
   "outputs": [
    {
     "data": {
      "text/html": [
       "<div>\n",
       "<style scoped>\n",
       "    .dataframe tbody tr th:only-of-type {\n",
       "        vertical-align: middle;\n",
       "    }\n",
       "\n",
       "    .dataframe tbody tr th {\n",
       "        vertical-align: top;\n",
       "    }\n",
       "\n",
       "    .dataframe thead th {\n",
       "        text-align: right;\n",
       "    }\n",
       "</style>\n",
       "<table border=\"1\" class=\"dataframe\">\n",
       "  <thead>\n",
       "    <tr style=\"text-align: right;\">\n",
       "      <th></th>\n",
       "      <th>tweet</th>\n",
       "      <th>product</th>\n",
       "      <th>sentiment</th>\n",
       "      <th>brand</th>\n",
       "      <th>clean_tweet</th>\n",
       "    </tr>\n",
       "  </thead>\n",
       "  <tbody>\n",
       "    <tr>\n",
       "      <th>0</th>\n",
       "      <td>.@wesley83 I have a 3G iPhone. After 3 hrs twe...</td>\n",
       "      <td>iPhone</td>\n",
       "      <td>negative</td>\n",
       "      <td>apple</td>\n",
       "      <td>iphone hr tweeting rise austin dead need upgra...</td>\n",
       "    </tr>\n",
       "    <tr>\n",
       "      <th>1</th>\n",
       "      <td>@jessedee Know about @fludapp ? Awesome iPad/i...</td>\n",
       "      <td>iPad or iPhone App</td>\n",
       "      <td>positive</td>\n",
       "      <td>apple</td>\n",
       "      <td>know awesome ipad iphone app likely appreciate...</td>\n",
       "    </tr>\n",
       "    <tr>\n",
       "      <th>2</th>\n",
       "      <td>@swonderlin Can not wait for #iPad 2 also. The...</td>\n",
       "      <td>iPad</td>\n",
       "      <td>positive</td>\n",
       "      <td>apple</td>\n",
       "      <td>wait ipad also sale</td>\n",
       "    </tr>\n",
       "    <tr>\n",
       "      <th>3</th>\n",
       "      <td>@sxsw I hope this year's festival isn't as cra...</td>\n",
       "      <td>iPad or iPhone App</td>\n",
       "      <td>negative</td>\n",
       "      <td>apple</td>\n",
       "      <td>hope year festival crashy year iphone app</td>\n",
       "    </tr>\n",
       "    <tr>\n",
       "      <th>4</th>\n",
       "      <td>@sxtxstate great stuff on Fri #SXSW: Marissa M...</td>\n",
       "      <td>Google</td>\n",
       "      <td>positive</td>\n",
       "      <td>google</td>\n",
       "      <td>great stuff fri marissa mayer google tim reill...</td>\n",
       "    </tr>\n",
       "    <tr>\n",
       "      <th>...</th>\n",
       "      <td>...</td>\n",
       "      <td>...</td>\n",
       "      <td>...</td>\n",
       "      <td>...</td>\n",
       "      <td>...</td>\n",
       "    </tr>\n",
       "    <tr>\n",
       "      <th>8693</th>\n",
       "      <td>Ipad everywhere. #SXSW {link}</td>\n",
       "      <td>iPad</td>\n",
       "      <td>positive</td>\n",
       "      <td>apple</td>\n",
       "      <td>ipad everywhere</td>\n",
       "    </tr>\n",
       "    <tr>\n",
       "      <th>8694</th>\n",
       "      <td>Wave, buzz... RT @mention We interrupt your re...</td>\n",
       "      <td>unassigned</td>\n",
       "      <td>neutral</td>\n",
       "      <td>NA</td>\n",
       "      <td>wave buzz interrupt regularly scheduled geek p...</td>\n",
       "    </tr>\n",
       "    <tr>\n",
       "      <th>8695</th>\n",
       "      <td>Google's Zeiger, a physician never reported po...</td>\n",
       "      <td>unassigned</td>\n",
       "      <td>neutral</td>\n",
       "      <td>NA</td>\n",
       "      <td>google zeiger physician never reported potenti...</td>\n",
       "    </tr>\n",
       "    <tr>\n",
       "      <th>8696</th>\n",
       "      <td>Some Verizon iPhone customers complained their...</td>\n",
       "      <td>unassigned</td>\n",
       "      <td>neutral</td>\n",
       "      <td>NA</td>\n",
       "      <td>verizon iphone customer complained time fell b...</td>\n",
       "    </tr>\n",
       "    <tr>\n",
       "      <th>8697</th>\n",
       "      <td>�ϡ�����_��ʋ�΋�ҋ�������⋁_��������_���RT @mentio...</td>\n",
       "      <td>unassigned</td>\n",
       "      <td>neutral</td>\n",
       "      <td>NA</td>\n",
       "      <td>google test check offer</td>\n",
       "    </tr>\n",
       "  </tbody>\n",
       "</table>\n",
       "<p>8698 rows × 5 columns</p>\n",
       "</div>"
      ],
      "text/plain": [
       "                                                  tweet             product  \\\n",
       "0     .@wesley83 I have a 3G iPhone. After 3 hrs twe...              iPhone   \n",
       "1     @jessedee Know about @fludapp ? Awesome iPad/i...  iPad or iPhone App   \n",
       "2     @swonderlin Can not wait for #iPad 2 also. The...                iPad   \n",
       "3     @sxsw I hope this year's festival isn't as cra...  iPad or iPhone App   \n",
       "4     @sxtxstate great stuff on Fri #SXSW: Marissa M...              Google   \n",
       "...                                                 ...                 ...   \n",
       "8693                      Ipad everywhere. #SXSW {link}                iPad   \n",
       "8694  Wave, buzz... RT @mention We interrupt your re...          unassigned   \n",
       "8695  Google's Zeiger, a physician never reported po...          unassigned   \n",
       "8696  Some Verizon iPhone customers complained their...          unassigned   \n",
       "8697  �ϡ�����_��ʋ�΋�ҋ�������⋁_��������_���RT @mentio...          unassigned   \n",
       "\n",
       "     sentiment   brand                                        clean_tweet  \n",
       "0     negative   apple  iphone hr tweeting rise austin dead need upgra...  \n",
       "1     positive   apple  know awesome ipad iphone app likely appreciate...  \n",
       "2     positive   apple                                wait ipad also sale  \n",
       "3     negative   apple          hope year festival crashy year iphone app  \n",
       "4     positive  google  great stuff fri marissa mayer google tim reill...  \n",
       "...        ...     ...                                                ...  \n",
       "8693  positive   apple                                    ipad everywhere  \n",
       "8694   neutral      NA  wave buzz interrupt regularly scheduled geek p...  \n",
       "8695   neutral      NA  google zeiger physician never reported potenti...  \n",
       "8696   neutral      NA  verizon iphone customer complained time fell b...  \n",
       "8697   neutral      NA                            google test check offer  \n",
       "\n",
       "[8698 rows x 5 columns]"
      ]
     },
     "execution_count": 54,
     "metadata": {},
     "output_type": "execute_result"
    }
   ],
   "source": [
    "df['clean_tweet'] = df['tweet'].apply(clean_tweet)\n",
    "df"
   ]
  },
  {
   "cell_type": "code",
   "execution_count": null,
   "metadata": {},
   "outputs": [],
   "source": [
    "# jacob clean_text function\n",
    "\n",
    "def clean_text(text):\n",
    "    # Check if the text is a string\n",
    "    if not isinstance(text, str):\n",
    "        return ''  # Return empty string if text is not a string\n",
    "    # Remove URLs items\n",
    "    text = re.sub(r'http\\S+|www\\S+|https\\S+', '', text, flags=re.MULTILINE)\n",
    "    # Remove user @ references and '#' from tweet\n",
    "    text = re.sub(r'\\@\\w+|\\#','', text)\n",
    "    # Remove HTML tags\n",
    "    text = re.sub(r'<.*?>', '', text)\n",
    "    # Remove special characters and numbers\n",
    "    text = re.sub(r\"[^a-zA-Z']\", ' ', text)\n",
    "    # Convert to lowercase\n",
    "    text = text.lower()\n",
    "    # Remove stopwords\n",
    "    stop_words = set(stopwords.words('english')) | {'sxsw','link','rt'}\n",
    "    text = ' '.join([word for word in text.split() if word not in stop_words])\n",
    "    \n",
    "    return text\n",
    "\n",
    "# Clean the tweet_text column\n",
    "df['cleaned_tweet_text'] = df['tweet_text'].apply(clean_text)"
   ]
  },
  {
   "cell_type": "code",
   "execution_count": null,
   "metadata": {},
   "outputs": [],
   "source": [
    "# jacob lemmatizer function\n",
    "\n",
    "# Initialize the WordNet lemmatizer\n",
    "lemmatizer = WordNetLemmatizer()\n",
    "\n",
    "# Function to lemmatize text\n",
    "def lemmatize_text(text):\n",
    "    # Tokenize the text\n",
    "    tokens = word_tokenize(text)\n",
    "    # Lemmatize each word\n",
    "    lemmatized_tokens = [lemmatizer.lemmatize(token) for token in tokens]\n",
    "    # Rejoin lemmatized tokens into a string\n",
    "    lemmatized_text = ' '.join(lemmatized_tokens)\n",
    "    return lemmatized_text\n",
    "\n",
    "# Example text\n",
    "example_text = \"Fall Out Boy Rules.\"\n",
    "\n",
    "# Lemmatize the example text\n",
    "lemmatized_text = lemmatize_text(example_text)\n",
    "print(lemmatized_text)"
   ]
  },
  {
   "cell_type": "markdown",
   "metadata": {},
   "source": [
    "# modeling"
   ]
  },
  {
   "cell_type": "code",
   "execution_count": 62,
   "metadata": {},
   "outputs": [
    {
     "data": {
      "text/plain": [
       "0    5837\n",
       "1    2861\n",
       "Name: sentiment, dtype: int64"
      ]
     },
     "execution_count": 62,
     "metadata": {},
     "output_type": "execute_result"
    }
   ],
   "source": [
    "# rename sentiment labels\n",
    "df['sentiment'] = df['sentiment'].replace({\"neutral\": 0,\n",
    "                                           \"positive\": 1,\n",
    "                                           \"negative\": 0,\n",
    "                                           \"unclear\": 0})\n",
    "df['sentiment'].value_counts()"
   ]
  },
  {
   "cell_type": "code",
   "execution_count": 63,
   "metadata": {},
   "outputs": [],
   "source": [
    "# train test split\n",
    "X = df[['clean_tweet']]\n",
    "y = df['sentiment']\n",
    "\n",
    "X_train, X_test, y_train, y_test = train_test_split(X, y, test_size=0.2, random_state=42)\n"
   ]
  },
  {
   "cell_type": "code",
   "execution_count": 65,
   "metadata": {},
   "outputs": [
    {
     "data": {
      "text/plain": [
       "0    0.672895\n",
       "1    0.327105\n",
       "Name: sentiment, dtype: float64"
      ]
     },
     "execution_count": 65,
     "metadata": {},
     "output_type": "execute_result"
    }
   ],
   "source": [
    "# baseline prediction\n",
    "y_train.value_counts(normalize=True)"
   ]
  },
  {
   "cell_type": "code",
   "execution_count": 71,
   "metadata": {},
   "outputs": [
    {
     "name": "stderr",
     "output_type": "stream",
     "text": [
      "/Users/meghanapakala/anaconda3/envs/learn-env/lib/python3.8/site-packages/sklearn/model_selection/_validation.py:548: FitFailedWarning: Estimator fit failed. The score on this train-test partition for these parameters will be set to nan. Details: \n",
      "Traceback (most recent call last):\n",
      "  File \"/Users/meghanapakala/anaconda3/envs/learn-env/lib/python3.8/site-packages/sklearn/model_selection/_validation.py\", line 531, in _fit_and_score\n",
      "    estimator.fit(X_train, y_train, **fit_params)\n",
      "  File \"/Users/meghanapakala/anaconda3/envs/learn-env/lib/python3.8/site-packages/sklearn/pipeline.py\", line 335, in fit\n",
      "    self._final_estimator.fit(Xt, y, **fit_params_last_step)\n",
      "  File \"/Users/meghanapakala/anaconda3/envs/learn-env/lib/python3.8/site-packages/sklearn/naive_bayes.py\", line 615, in fit\n",
      "    X, y = self._check_X_y(X, y)\n",
      "  File \"/Users/meghanapakala/anaconda3/envs/learn-env/lib/python3.8/site-packages/sklearn/naive_bayes.py\", line 480, in _check_X_y\n",
      "    return self._validate_data(X, y, accept_sparse='csr')\n",
      "  File \"/Users/meghanapakala/anaconda3/envs/learn-env/lib/python3.8/site-packages/sklearn/base.py\", line 432, in _validate_data\n",
      "    X, y = check_X_y(X, y, **check_params)\n",
      "  File \"/Users/meghanapakala/anaconda3/envs/learn-env/lib/python3.8/site-packages/sklearn/utils/validation.py\", line 72, in inner_f\n",
      "    return f(**kwargs)\n",
      "  File \"/Users/meghanapakala/anaconda3/envs/learn-env/lib/python3.8/site-packages/sklearn/utils/validation.py\", line 812, in check_X_y\n",
      "    check_consistent_length(X, y)\n",
      "  File \"/Users/meghanapakala/anaconda3/envs/learn-env/lib/python3.8/site-packages/sklearn/utils/validation.py\", line 255, in check_consistent_length\n",
      "    raise ValueError(\"Found input variables with inconsistent numbers of\"\n",
      "ValueError: Found input variables with inconsistent numbers of samples: [1, 5566]\n",
      "\n",
      "  warnings.warn(\"Estimator fit failed. The score on this train-test\"\n",
      "/Users/meghanapakala/anaconda3/envs/learn-env/lib/python3.8/site-packages/sklearn/model_selection/_validation.py:548: FitFailedWarning: Estimator fit failed. The score on this train-test partition for these parameters will be set to nan. Details: \n",
      "Traceback (most recent call last):\n",
      "  File \"/Users/meghanapakala/anaconda3/envs/learn-env/lib/python3.8/site-packages/sklearn/model_selection/_validation.py\", line 531, in _fit_and_score\n",
      "    estimator.fit(X_train, y_train, **fit_params)\n",
      "  File \"/Users/meghanapakala/anaconda3/envs/learn-env/lib/python3.8/site-packages/sklearn/pipeline.py\", line 335, in fit\n",
      "    self._final_estimator.fit(Xt, y, **fit_params_last_step)\n",
      "  File \"/Users/meghanapakala/anaconda3/envs/learn-env/lib/python3.8/site-packages/sklearn/naive_bayes.py\", line 615, in fit\n",
      "    X, y = self._check_X_y(X, y)\n",
      "  File \"/Users/meghanapakala/anaconda3/envs/learn-env/lib/python3.8/site-packages/sklearn/naive_bayes.py\", line 480, in _check_X_y\n",
      "    return self._validate_data(X, y, accept_sparse='csr')\n",
      "  File \"/Users/meghanapakala/anaconda3/envs/learn-env/lib/python3.8/site-packages/sklearn/base.py\", line 432, in _validate_data\n",
      "    X, y = check_X_y(X, y, **check_params)\n",
      "  File \"/Users/meghanapakala/anaconda3/envs/learn-env/lib/python3.8/site-packages/sklearn/utils/validation.py\", line 72, in inner_f\n",
      "    return f(**kwargs)\n",
      "  File \"/Users/meghanapakala/anaconda3/envs/learn-env/lib/python3.8/site-packages/sklearn/utils/validation.py\", line 812, in check_X_y\n",
      "    check_consistent_length(X, y)\n",
      "  File \"/Users/meghanapakala/anaconda3/envs/learn-env/lib/python3.8/site-packages/sklearn/utils/validation.py\", line 255, in check_consistent_length\n",
      "    raise ValueError(\"Found input variables with inconsistent numbers of\"\n",
      "ValueError: Found input variables with inconsistent numbers of samples: [1, 5567]\n",
      "\n",
      "  warnings.warn(\"Estimator fit failed. The score on this train-test\"\n"
     ]
    },
    {
     "data": {
      "text/plain": [
       "{'fit_time': array([0.00178313, 0.00134087, 0.00125909, 0.0012238 , 0.00138974]),\n",
       " 'score_time': array([0., 0., 0., 0., 0.]),\n",
       " 'test_score': array([nan, nan, nan, nan, nan]),\n",
       " 'train_score': array([nan, nan, nan, nan, nan])}"
      ]
     },
     "execution_count": 71,
     "metadata": {},
     "output_type": "execute_result"
    }
   ],
   "source": [
    "# untuned tf-idf and simple nb\n",
    "\n",
    "pipe_nb = Pipeline(steps=[\n",
    "    ('tfidf', TfidfVectorizer()),\n",
    "    ('nb', MultinomialNB())\n",
    "])\n",
    "\n",
    "cross_validate(pipe_nb, X_train, y_train, scoring='accuracy', return_train_score=True)\n"
   ]
  },
  {
   "cell_type": "code",
   "execution_count": null,
   "metadata": {},
   "outputs": [],
   "source": []
  }
 ],
 "metadata": {
  "kernelspec": {
   "display_name": "Python 3",
   "language": "python",
   "name": "python3"
  },
  "language_info": {
   "codemirror_mode": {
    "name": "ipython",
    "version": 3
   },
   "file_extension": ".py",
   "mimetype": "text/x-python",
   "name": "python",
   "nbconvert_exporter": "python",
   "pygments_lexer": "ipython3",
   "version": "3.8.5"
  }
 },
 "nbformat": 4,
 "nbformat_minor": 2
}
